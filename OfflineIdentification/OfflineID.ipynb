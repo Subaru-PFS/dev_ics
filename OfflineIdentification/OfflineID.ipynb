{
 "cells": [
  {
   "cell_type": "markdown",
   "id": "7eaa94a6",
   "metadata": {},
   "source": [
    "## Offline Notebook for Fibre Identification\n",
    "\n",
    "This notebook can be used to run the fibre identification code outside the actor, for testing and development. \n",
    "\n",
    "There are three options shown\n",
    "\n",
    "- run with a FITS file as input (performs the centroiding)\n",
    "- run with a dataframe containing the information read from the database as input\n",
    "- run by querying the database directly\n",
    "\n",
    "\n",
    "The variable targetPos is a numpy array of length nx3 where \n",
    "- 0: cobraID\n",
    "- 1: target x position\n",
    "- 2: target y position\n",
    "\n",
    "If the cobras are parked at the centre, centrePos can be used; it can also be used for more general cases but can cause mis-identifications. \n"
   ]
  },
  {
   "cell_type": "code",
   "execution_count": null,
   "id": "cf8560d8",
   "metadata": {},
   "outputs": [],
   "source": [
    "%matplotlib notebook\n",
    "import mcsActor.windowedCentroid.centroid as centroid\n",
    "import mcsActor.mcsRoutines.mcsRoutines as mcsTools\n",
    "from astropy.io import fits\n",
    "import matplotlib.pylab as plt\n",
    "from importlib import reload\n",
    "from pfs.utils import butler\n",
    "import pandas as pd\n",
    "import pfs.utils.coordinates.transform as transformUtils\n",
    "import numpy as np\n",
    "import offlineID as offline # this has wrappers to call the various routines and format things\n",
    "import os\n"
   ]
  },
  {
   "cell_type": "markdown",
   "id": "fa340250",
   "metadata": {},
   "source": [
    "## setup paths and variables\n",
    "\n",
    "Change the data path to the directory where the fits files are (if needed), and choose the appropriate camera. "
   ]
  },
  {
   "cell_type": "code",
   "execution_count": null,
   "id": "e7ce86dc",
   "metadata": {},
   "outputs": [],
   "source": [
    "dataPath = \"/Users/karr/Science/Data/PFS/convergeTests/20220222_009/data/\"\n",
    "\n",
    "# camera (canon for on telescope, rmod for test stand)\n",
    "cameraName = 'rmod_71m'\n",
    "#cameraName = 'canon_50m'\n",
    "\n",
    "# get the geometry\n",
    "bbutler = butler.Butler()\n",
    "pfi = bbutler.get(\"moduleXml\", moduleName=\"ALL\", version=\"\")\n",
    "dots = bbutler.get(\"black_dots\", moduleName=\"ALL\", version=\"\")\n",
    "fids = bbutler.get('fiducials')\n",
    "\n",
    "# variables for IDing\n",
    "centrePos, armLength, dotPos, goodIdx, des = mcsTools.readCobraGeometry(pfi,dots)\n",
    "adjacentCobras = mcsTools.makeAdjacentList(centrePos, armLength)\n",
    "centParms = mcsTools.getCentroidParams([])\n",
    "fidPos =  np.array([fids['fiducialId'],fids['x_mm'],fids['y_mm']]).T\n"
   ]
  },
  {
   "cell_type": "markdown",
   "id": "7eee0f61",
   "metadata": {},
   "source": [
    "## FITS file input \n",
    "\n",
    "Pass a frame ID, the routine reads the telescope information from the FITS header,\n",
    "does the centroiding, matches and returns the following numpy arrays \n",
    "\n",
    "cobraMatch of of length(ncobras) where\n",
    "- 0: cobraID\n",
    "- 1: spotID (in centroids)\n",
    "- 2: x_mm\n",
    "- 3: y_mm\n",
    "\n",
    "fidMatch\n",
    "- 0: fiducialID\n",
    "- 1: spotID (in centroids)\n",
    "- 2: x_mm\n",
    "- 3: y_mm\n",
    "\n",
    "centroids\n",
    "- 0: spotID\n",
    "- 1: x_pixel\n",
    "- 2: y_pixel\n",
    "- 3 -> other spot shape information \n"
   ]
  },
  {
   "cell_type": "code",
   "execution_count": null,
   "id": "eeef27c2",
   "metadata": {},
   "outputs": [],
   "source": [
    "#version for fits files\n",
    "\n",
    "# list of frameIDs\n",
    "frameID = 7612200\n",
    "targetPos = centrePos\n",
    "\n",
    "cobraMatch,fidMatch,centroids=offline.runMatchFile(frameID,dataPath,centParms,cameraName,fids,centrePos,armLength,dotPos,goodIdx,adjacentCobras,targetPos)\n"
   ]
  },
  {
   "cell_type": "markdown",
   "id": "b76a66a8",
   "metadata": {},
   "source": [
    "## CSV file file input \n",
    "\n",
    "expects two pandas arrays as input, one with the mcs_exposure data, one with the mcs_data data. \n",
    "\n",
    "returns the same as above\n",
    "\n"
   ]
  },
  {
   "cell_type": "code",
   "execution_count": null,
   "id": "72a87529",
   "metadata": {},
   "outputs": [],
   "source": [
    "# version for query from database dumped to csv (mcs_exposure and mcs_data)\n",
    "reload(offline)\n",
    "# list of frameIDs\n",
    "frameID = 7612200\n",
    "\n",
    "expData = pd.read_csv(\"/Users/karr/mcsExposure_7612200.csv\")\n",
    "mcsData = pd.read_csv(\"/Users/karr/mcsData_7612200.csv\")\n",
    "\n",
    "cobraMatch,fidMatch,centroids=offline.runMatchDF(frameID,mcsData,expData,cameraName,fids,centrePos,armLength,dotPos,goodIdx,adjacentCobras,centrePos)\n"
   ]
  },
  {
   "cell_type": "markdown",
   "id": "5de2270f",
   "metadata": {},
   "source": [
    "### Database Input\n",
    "\n",
    "Similar to CSV input, but reads the exposure and centroid data from the database. Requires db object with link to the database. \n",
    "\n",
    "Returns the same as above"
   ]
  },
  {
   "cell_type": "code",
   "execution_count": null,
   "id": "85c601a4",
   "metadata": {},
   "outputs": [],
   "source": [
    "# version for DB\n",
    "frameID = 7612200\n",
    "\n",
    "sql = \"\"\"select * from mcs_exposure where mcs_frame_id=7612200\"\"\"\n",
    "expData = db.fetch_query(sql)\n",
    "sql = \"\"\"select * from mcs_data where mcs_frame_id=7612200\"\"\"\n",
    "mcsData = db.fetch_query(sql)\n",
    "\n",
    "cobraMatch,fidMatch,centroids=offline.runMatchDF(frameID,mcsData,centroidData,cameraName,fids,centrePos,armLength,dotPos,goodIdx,adjacentCobras,centrePos)\n",
    "\n",
    "\n"
   ]
  },
  {
   "cell_type": "markdown",
   "id": "2fd81ba1",
   "metadata": {},
   "source": [
    "## Quick Plots\n",
    "\n",
    "Does a quick plots of the matching, with each spot connected to it's matched cobra centre position. \n",
    "Fiducial fibres and patrol regions are marked. \n"
   ]
  },
  {
   "cell_type": "code",
   "execution_count": null,
   "id": "0c963f0e",
   "metadata": {},
   "outputs": [],
   "source": [
    "fig,ax=plt.subplots()\n",
    "for i in range(len(goodIdx)):\n",
    "    ax.plot([cobraMatch[i,2],des.centers.real[goodIdx[i]]],[cobraMatch[i,3],des.centers.imag[goodIdx[i]]])\n",
    "ax.scatter(centrePos[:,1],centrePos[:,2])\n",
    "ax.scatter(fids['x_mm'],fids['y_mm'],marker=\"d\")\n",
    "for i in range(len(centrePos)):\n",
    "    circle=plt.Circle((centrePos[i,1],centrePos[i,2]),armLength[i],fill=False,color='black')\n",
    "    a=ax.add_artist(circle)\n",
    "\n"
   ]
  },
  {
   "cell_type": "code",
   "execution_count": null,
   "id": "8896589f",
   "metadata": {},
   "outputs": [],
   "source": [
    "\n",
    "\n"
   ]
  }
 ],
 "metadata": {
  "kernelspec": {
   "display_name": "Python 3 (ipykernel)",
   "language": "python",
   "name": "python3"
  },
  "language_info": {
   "codemirror_mode": {
    "name": "ipython",
    "version": 3
   },
   "file_extension": ".py",
   "mimetype": "text/x-python",
   "name": "python",
   "nbconvert_exporter": "python",
   "pygments_lexer": "ipython3",
   "version": "3.8.12"
  }
 },
 "nbformat": 4,
 "nbformat_minor": 5
}
