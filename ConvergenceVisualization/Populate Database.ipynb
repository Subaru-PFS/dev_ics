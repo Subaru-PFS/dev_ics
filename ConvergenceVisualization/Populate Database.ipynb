{
 "cells": [
  {
   "cell_type": "markdown",
   "id": "867d49d2",
   "metadata": {},
   "source": [
    "## Populate Database\n",
    "\n",
    "Script to take a set of data in numpy files and put it in a local database for testing / example purposes. The data are already in the production database"
   ]
  },
  {
   "cell_type": "code",
   "execution_count": null,
   "id": "622ffbc6",
   "metadata": {},
   "outputs": [],
   "source": [
    "from opdb import opdb\n",
    "import numpy as np\n",
    "import pandas as pd\n"
   ]
  },
  {
   "cell_type": "code",
   "execution_count": null,
   "id": "c03b70a8",
   "metadata": {},
   "outputs": [],
   "source": [
    "#change this to where yoru files are, and your local DB information. If working with the real \n",
    "#database you don't need this notebook. \n",
    "dataPath = \"/Users/karr/Science/Data/PFS/Numpy/\"\n",
    "hostname = \"localhost\"\n",
    "port = \"5432\"\n",
    "dbname = \"opdb\"\n",
    "username = \"karr\"\n",
    "db=opdb.OpDB(hostname = hostname, port = port,dbname = dbname,\n",
    "                        username = username)\n"
   ]
  },
  {
   "cell_type": "code",
   "execution_count": null,
   "id": "27c08ec6",
   "metadata": {},
   "outputs": [],
   "source": [
    "\n",
    "visitId=72752\n",
    "\n",
    "# read in the numpy files\n",
    "\n",
    "dFile = dataPath+str(int(elem))+\"_data.npy\"\n",
    "mFile =  dataPath+str(int(elem))+\"_match.npy\"\n",
    "tFile =  dataPath+str(int(elem))+\"_target.npy\"\n",
    "eFile =  dataPath+str(int(elem))+\"_expose.npy\"\n",
    "    \n",
    "data = np.load(dFile,allow_pickle=True)\n",
    "expose = np.load(eFile,allow_pickle=True)\n",
    "target = np.load(tFile,allow_pickle=True)\n",
    "match = np.load(mFile,allow_pickle=True)\n",
    "\n",
    "# write to DB. order of tables is important\n",
    "\n",
    "visit=np.array([elem])\n",
    "columns=[\"pfs_visit_id\"]\n",
    "df=pd.DataFrame(visit,columns=columns)\n",
    "db.insert(\"pfs_visit\", df)\n",
    "\n",
    "expose = expose[:,0:2]\n",
    "columns = [\"mcs_frame_id\",\"pfs_visit_id\"]\n",
    "df=pd.DataFrame(expose,columns=columns)\n",
    "db.insert(\"mcs_exposure\", df)\n",
    " \n",
    "columns=[\"pfs_visit_id\",\"iteration\",\"cobra_id\",\"pfi_nominal_x_mm\",\"pfi_nominal_y_mm\",\"pfi_target_x_mm\",\"pfi_target_y_mm\"]\n",
    "df=pd.DataFrame(target[:,[0,1,2,4,5,6,7]],columns=columns)\n",
    "db.insert(\"cobra_target\", df)\n",
    "\n",
    "columns=[\"mcs_frame_id\",\"spot_id\",\"mcs_center_x_pix\",\"mcs_center_y_pix\",\"mcs_second_moment_x_pix\",\"mcs_second_moment_y_pix\",\"mcs_second_moment_xy_pix\",\"bgvalue\",\"peakvalue\"]\n",
    "df=pd.DataFrame(data,columns=columns)\n",
    "db.insert(\"mcs_data\", df)\n",
    "\n",
    "columns=[\"pfs_visit_id\",\"iteration\",\"cobra_id\",\"mcs_frame_id\",\"spot_id\",\"pfi_center_x_mm\",\"pfi_center_y_mm\",\"flags\"]\n",
    "df=pd.DataFrame(match,columns=columns)\n",
    "db.insert(\"cobra_match\", df)\n"
   ]
  },
  {
   "cell_type": "code",
   "execution_count": null,
   "id": "362af0c5",
   "metadata": {},
   "outputs": [],
   "source": []
  }
 ],
 "metadata": {
  "kernelspec": {
   "display_name": "Python 3 (ipykernel)",
   "language": "python",
   "name": "python3"
  },
  "language_info": {
   "codemirror_mode": {
    "name": "ipython",
    "version": 3
   },
   "file_extension": ".py",
   "mimetype": "text/x-python",
   "name": "python",
   "nbconvert_exporter": "python",
   "pygments_lexer": "ipython3",
   "version": "3.8.12"
  }
 },
 "nbformat": 4,
 "nbformat_minor": 5
}
