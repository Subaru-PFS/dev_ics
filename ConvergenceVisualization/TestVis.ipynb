{
 "cells": [
  {
   "cell_type": "markdown",
   "id": "4fb6e7f3",
   "metadata": {},
   "source": [
    "## Demonstrate Visualization Software\n",
    "\n",
    "Demo of how to run the visDiagnosticPlot module. "
   ]
  },
  {
   "cell_type": "code",
   "execution_count": null,
   "id": "a6abf52d",
   "metadata": {},
   "outputs": [],
   "source": [
    "%matplotlib notebook\n",
    "import visDiagnosticPlots as vd\n",
    "from importlib import reload\n",
    "import pathlib\n",
    "import pandas as pd\n"
   ]
  },
  {
   "cell_type": "markdown",
   "id": "c0bf5ee1",
   "metadata": {},
   "source": [
    "### Structure of vis\n",
    "\n",
    "<li><b>vis.nIter</b>: total number of iterations</li>\n",
    "<li><b>vis.fids</b>, <b>vis.goodIdx</b>, <b>vis.dots</b>: calibration information</li>\n",
    "<li><b>vis.calibModel</b>: calibration model</li>\n",
    "<li><b>vis.db</b>:  database connection</li>\n",
    "<li><b>vis.convergeData</b> pandas dataframe with the convergence data</li>\n",
    "\n",
    "<b>vis.loadConvergence(pfsVisitId)</b>\n",
    "\n",
    "Load data from a convergence run into a pandas DF.  Loads all iterations, performs join between cobra_match and cobra_target to get meaured and target positions. \n",
    "\n",
    "<b>vis.visConvergenceHist(range=(0,0.08), bins=20)</b>\n",
    "\n",
    "plot a histogram of distance to target for a sequence of iterations (ie, Chi-Hung's nice plots). \n",
    "\n",
    "<b>vis.visConvergenceMap(iterVal = None)</b>\n",
    "\n",
    "plot a map of distance to the final target for all cobras. If iterVal is specified do for a specific iteration, otherwise for the last iteration. \n",
    "\n",
    "<b>vis.visConvergenceBool(iterVal = None, threshNon = 0.01, threshBad = 0.08)</b>\n",
    "\n",
    "Plot a converged/non-converged map of the cobras. Three colours; converged, non-converged, and almost-converged, as specified by the thresholds. If  If iterVal is specified do for a specific iteration, otherwise for the last iteration. \n",
    "\n",
    "<b>vis.singleCobraMotion(self,cobraNum,hardStop = False, blackDots = False)</b>\n",
    "\n",
    "Plot diagnostics for a single cobra, showing 2D motion and distance to target by iteration.  The points are colour coded by iteration in chromatic order from red -> purple\n",
    "\n",
    "<b>vis.sequencePlot(centrePos = True, hardStop = False, blackDots = False, patrolRegion = True, ff = True)</b>\n",
    "\n",
    "Plot all the cobra motions for a convergence sequence, same colour coding for spots as signleCobraMotions \n",
    "\n",
    "Optional overplots are: \n",
    "\n",
    "  <li><i>centrePos</i>: plot centres of cobra motion (default=True)</li>\n",
    "  <li><i>blackDots</i>: black dot positions</li>\n",
    "  <li><i>hardStop</i>: location of theta hardstops</li>\n",
    "  <li><i>patrolRegion</i>: show bounds of patrol region (default=True)</li>\n",
    "  <li><i>ff</i>: show location of fiducial fibres (default=True)</li>\n",
    "  \n",
    "\n",
    "For plots, passing plotFile = True will create a PDF file of the results, with a name that contains the pfsVisitID and, if applicable, the iteration number or cobra number. \n"
   ]
  },
  {
   "cell_type": "markdown",
   "id": "be557ca2",
   "metadata": {},
   "source": [
    "## Initialize\n",
    "\n",
    "To initialize, you need the location of the calibration files.\n",
    "\n",
    "The initialization will read the cobra geometry, black dot positions, fiducial fibre positions and initialize the database connection. The location of the xml file and dot file are required, you can override the default DB parameters if desired. \n",
    "\n",
    "The PurePosixPath is needed for a reference to xmlFile.stem further down the code. "
   ]
  },
  {
   "cell_type": "code",
   "execution_count": null,
   "id": "c5a5db2b",
   "metadata": {},
   "outputs": [],
   "source": [
    "dotFile = '/Users/karr/software/mhs/devel/pfs_instdata/data/pfi/dot/black_dots_mm.csv'\n",
    "xmlFile=pathlib.PurePosixPath(\"/Users/karr/software/mhs/devel/pfs_instdata/data/pfi/modules/ALL/ALL_final_20210920_mm.xml\")\n",
    "visitId=68440\n",
    "\n",
    "reload(vd)\n",
    "vis = vd.VisDiagnosticPlot(xmlFile,dotFile,hostname = 'localhost', username = 'karr')\n"
   ]
  },
  {
   "cell_type": "markdown",
   "id": "e0f867bf",
   "metadata": {},
   "source": [
    "## Load a convergence run\n",
    "\n",
    "This loads the data (targets and moves) for a single convergence run specified by the visitId into a pandas dataframe. "
   ]
  },
  {
   "cell_type": "code",
   "execution_count": null,
   "id": "5dbd2f35",
   "metadata": {},
   "outputs": [],
   "source": [
    "reload(vd)\n",
    "vis = vd.VisDiagnosticPlot(xmlFile,dotFile,hostname = 'localhost', username = 'karr')\n",
    "vis.loadConvergence(visitId)"
   ]
  },
  {
   "cell_type": "markdown",
   "id": "c97d496b",
   "metadata": {},
   "source": [
    "## Plot convergence map"
   ]
  },
  {
   "cell_type": "code",
   "execution_count": null,
   "id": "ac877129",
   "metadata": {},
   "outputs": [],
   "source": [
    "vis.visConvergenceMap()"
   ]
  },
  {
   "cell_type": "markdown",
   "id": "21c15702",
   "metadata": {},
   "source": [
    "## Plot Boolean Map"
   ]
  },
  {
   "cell_type": "code",
   "execution_count": null,
   "id": "b9d1265b",
   "metadata": {},
   "outputs": [],
   "source": [
    "vis.visConvergenceBool()"
   ]
  },
  {
   "cell_type": "markdown",
   "id": "2e106596",
   "metadata": {},
   "source": [
    "## Sequence Plot\n",
    "\n",
    "Plots the whole field, showing the motion of the cobras for the convergece sequence. Optionally overplot the black dot locations, centre positions, patrol region, fiducial fibres and hard stops. "
   ]
  },
  {
   "cell_type": "code",
   "execution_count": null,
   "id": "03565bf1",
   "metadata": {},
   "outputs": [],
   "source": [
    "fig,ax = vis.sequencePlot(hardStop = True, blackDots = True, ff = True)"
   ]
  },
  {
   "cell_type": "markdown",
   "id": "abfcd2c9",
   "metadata": {},
   "source": [
    "## Histograms \n",
    "\n",
    "plot histograms of the distance to the target for each iteration"
   ]
  },
  {
   "cell_type": "code",
   "execution_count": null,
   "id": "05d60b9c",
   "metadata": {},
   "outputs": [],
   "source": [
    "\n",
    "fig,ax=vis.visConvergenceHist()\n"
   ]
  },
  {
   "cell_type": "markdown",
   "id": "fd6aee87",
   "metadata": {},
   "source": [
    "## Plot a single cobra motion\n"
   ]
  },
  {
   "cell_type": "code",
   "execution_count": null,
   "id": "4242dbdb",
   "metadata": {
    "scrolled": true
   },
   "outputs": [],
   "source": [
    "cobraNum = 100\n",
    "reload(vd)\n",
    "vis = vd.VisDiagnosticPlot(xmlFile,dotFile,hostname = 'localhost', username = 'karr')\n",
    "vis.loadConvergence(visitId)\n",
    "vis.singleCobraMotion(cobraNum,saveFile = True)"
   ]
  },
  {
   "cell_type": "code",
   "execution_count": null,
   "id": "12738407",
   "metadata": {},
   "outputs": [],
   "source": []
  }
 ],
 "metadata": {
  "kernelspec": {
   "display_name": "Python 3 (ipykernel)",
   "language": "python",
   "name": "python3"
  },
  "language_info": {
   "codemirror_mode": {
    "name": "ipython",
    "version": 3
   },
   "file_extension": ".py",
   "mimetype": "text/x-python",
   "name": "python",
   "nbconvert_exporter": "python",
   "pygments_lexer": "ipython3",
   "version": "3.8.12"
  }
 },
 "nbformat": 4,
 "nbformat_minor": 5
}
