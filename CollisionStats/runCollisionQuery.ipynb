{
 "cells": [
  {
   "cell_type": "code",
   "execution_count": 134,
   "id": "8a945cdf",
   "metadata": {},
   "outputs": [],
   "source": [
    "%matplotlib notebook\n",
    "import collisionStats as cs\n",
    "from pfs.utils import butler\n",
    "from importlib import reload\n",
    "from opdb import opdb"
   ]
  },
  {
   "cell_type": "code",
   "execution_count": 136,
   "id": "332b776f",
   "metadata": {},
   "outputs": [
    {
     "name": "stderr",
     "output_type": "stream",
     "text": [
      "2022-05-27 13:02:35.771Z root             30 spectroIds.py:39 no dns.resolver library available, using \"S\"\n"
     ]
    }
   ],
   "source": [
    "# some initial variable setting\n",
    "bbutler = butler.Butler()\n",
    "fids=bbutler.get('fiducials')\n",
    "db=opdb.OpDB(hostname = \"localhost\", port = 5432,dbname = 'opdb',\n",
    "                                username = 'karr')"
   ]
  },
  {
   "cell_type": "code",
   "execution_count": 185,
   "id": "ef610f35",
   "metadata": {},
   "outputs": [],
   "source": [
    "reload(cs)\n",
    "mcsFrameId=7275200\n",
    "cameraName = \"rmod_71m\"\n",
    "potCollFid,potCollCobra = cs.collCheck(db,mcsFrameId,cameraName,fids)"
   ]
  },
  {
   "cell_type": "code",
   "execution_count": 187,
   "id": "3781fbfa",
   "metadata": {},
   "outputs": [
    {
     "name": "stdout",
     "output_type": "stream",
     "text": [
      "858 [918]\n",
      "Cobra Nums = 859, 919\n",
      "918 [858]\n",
      "Cobra Nums = 919, 859\n",
      "1628 [1630]\n",
      "Cobra Nums = 1629, 1631\n",
      "1630 [1628]\n",
      "Cobra Nums = 1631, 1629\n",
      "1751 [1753]\n",
      "Cobra Nums = 1752, 1754\n",
      "1753 [1751]\n",
      "Cobra Nums = 1754, 1752\n",
      "1800 [1802]\n",
      "Cobra Nums = 1801, 1803\n",
      "1802 [1800]\n",
      "Cobra Nums = 1803, 1801\n"
     ]
    }
   ],
   "source": [
    "#print list of potential cobra-cobra collisions\n",
    "for i,elem in enumerate(potCollCobra):\n",
    "    if(len(potCollCobra[i])>0):\n",
    "        print(i,potCollCobra[i])\n",
    "        for cInd in potCollCobra[i]:\n",
    "            print(f'Cobra Nums = {i+1}, {cInd+1}')\n",
    "            \n",
    "#print list of potential cobra-cobra collisions\n",
    "for i,elem in enumerate(potCollFid):\n",
    "    if(len(potCollFid[i])>0):\n",
    "        for cInd in potCollFid[i]:\n",
    "            print(f'Cobra Nums = {i+1}, {cInd+1}')\n",
    "             "
   ]
  },
  {
   "cell_type": "code",
   "execution_count": 172,
   "id": "b1989aa8",
   "metadata": {},
   "outputs": [],
   "source": []
  }
 ],
 "metadata": {
  "kernelspec": {
   "display_name": "Python 3 (ipykernel)",
   "language": "python",
   "name": "python3"
  },
  "language_info": {
   "codemirror_mode": {
    "name": "ipython",
    "version": 3
   },
   "file_extension": ".py",
   "mimetype": "text/x-python",
   "name": "python",
   "nbconvert_exporter": "python",
   "pygments_lexer": "ipython3",
   "version": "3.8.12"
  }
 },
 "nbformat": 4,
 "nbformat_minor": 5
}
